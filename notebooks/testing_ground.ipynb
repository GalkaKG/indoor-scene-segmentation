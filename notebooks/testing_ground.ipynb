{
 "cells": [
  {
   "cell_type": "code",
   "execution_count": 3,
   "id": "3195e756-ccac-4a45-b86d-0aea0ed22839",
   "metadata": {},
   "outputs": [
    {
     "name": "stdout",
     "output_type": "stream",
     "text": [
      "dict_keys(['__header__', '__version__', '__globals__', 'seglabel', 'names'])\n"
     ]
    }
   ],
   "source": [
    "import scipy.io\n",
    "seg_data = scipy.io.loadmat(\"C:\\\\Project Deep Learning\\\\data\\\\SUNRGBD\\\\kv1\\\\b3dodata\\\\img_0063\\\\seg.mat\")\n",
    "print(seg_data.keys())\n"
   ]
  },
  {
   "cell_type": "code",
   "execution_count": 4,
   "id": "41cdb62e-28b5-40dd-a110-db9231c2d5a6",
   "metadata": {},
   "outputs": [
    {
     "data": {
      "text/plain": [
       "array([[array(['wall'], dtype='<U4'), array(['shelf'], dtype='<U5'),\n",
       "        array(['shelf'], dtype='<U5'), array(['floor'], dtype='<U5'),\n",
       "        array(['chair'], dtype='<U5'), array(['books'], dtype='<U5'),\n",
       "        array(['books'], dtype='<U5'), array(['box'], dtype='<U3'),\n",
       "        array(['books'], dtype='<U5')]], dtype=object)"
      ]
     },
     "execution_count": 4,
     "metadata": {},
     "output_type": "execute_result"
    }
   ],
   "source": [
    "seg_data['names']"
   ]
  },
  {
   "cell_type": "code",
   "execution_count": 9,
   "id": "090db9ad-1fa6-4320-8d05-9b959ae44cbd",
   "metadata": {},
   "outputs": [
    {
     "name": "stdout",
     "output_type": "stream",
     "text": [
      "Segmentation Mask Shape: (427, 561)\n"
     ]
    },
    {
     "data": {
      "image/png": "[encoded data removed]",
      "text/plain": [
       "<Figure size 432x288 with 2 Axes>"
      ]
     },
     "metadata": {
      "needs_background": "light"
     },
     "output_type": "display_data"
    }
   ],
   "source": [
    "import scipy.io\n",
    "import numpy as np\n",
    "import cv2\n",
    "import matplotlib.pyplot as plt\n",
    "\n",
    "# Load the .mat file\n",
    "seg_data = scipy.io.loadmat(\"C:\\\\Project Deep Learning\\\\data\\\\SUNRGBD\\\\kv1\\\\b3dodata\\\\img_0063\\\\seg.mat\")\n",
    "\n",
    "# Extract the segmentation mask\n",
    "seg_mask = seg_data[\"seglabel\"]  # This is a 2D numpy array\n",
    "\n",
    "# Print shape to check\n",
    "print(\"Segmentation Mask Shape:\", seg_mask.shape)\n",
    "\n",
    "# Display the segmentation mask\n",
    "plt.imshow(seg_mask, cmap=\"jet\")\n",
    "plt.colorbar()\n",
    "plt.show()\n"
   ]
  },
  {
   "cell_type": "code",
   "execution_count": 10,
   "id": "c32be8f6-25d7-4ab6-a94c-f85660cc7130",
   "metadata": {},
   "outputs": [
    {
     "name": "stdout",
     "output_type": "stream",
     "text": [
      "Unique class indices in the mask: [0 1 2 3 4 5 6 7 8 9]\n"
     ]
    }
   ],
   "source": [
    "import numpy as np\n",
    "\n",
    "# Get unique class indices in the mask\n",
    "unique_classes = np.unique(seg_mask)\n",
    "print(\"Unique class indices in the mask:\", unique_classes)\n"
   ]
  },
  {
   "cell_type": "code",
   "execution_count": 4,
   "id": "035d3b57-5b65-4885-b57f-0947e3d467d0",
   "metadata": {},
   "outputs": [],
   "source": [
    "import tensorflow as tf\n",
    "import pandas as pd\n",
    "import numpy as np\n",
    "import os\n",
    "\n",
    "# Paths\n",
    "rgb_dir = \"C:/Project Deep Learning/data\"\n",
    "labels_dir = \"C:/Project Deep Learning/data/labels_37\"\n",
    "\n",
    "# Read CSV files\n",
    "train_df = pd.read_csv(\"C:/Project Deep Learning/data/splits/train_split.csv\")\n",
    "valid_df = pd.read_csv(\"C:/Project Deep Learning/data/splits/valid_split.csv\")\n",
    "test_df = pd.read_csv(\"C:/Project Deep Learning/data/splits/test_split.csv\")\n",
    "\n",
    "# Image size for DeepLabV3 (you can change it)\n",
    "IMG_SIZE = (256, 256)\n",
    "\n",
    "# Function to load and preprocess images\n",
    "def load_image(img_path, label_path):\n",
    "    # Read image\n",
    "    img = tf.io.read_file(tf.strings.join([rgb_dir, \"/\", img_path]))\n",
    "    img = tf.image.decode_jpeg(img, channels=3)\n",
    "    img = tf.image.resize(img, IMG_SIZE)\n",
    "    img = tf.image.convert_image_dtype(img, tf.float32)  # Normalize to [0,1]\n",
    "    \n",
    "    # Normalize for DeepLabV3\n",
    "    img = (img - [0.485, 0.456, 0.406]) / [0.229, 0.224, 0.225]\n",
    "\n",
    "    # Read label (segmentation mask)\n",
    "    label = tf.io.read_file(tf.strings.join([labels_dir, \"/\", label_path]))\n",
    "    label = tf.image.decode_png(label, channels=1)  # Ensure grayscale\n",
    "    label = tf.image.resize(label, IMG_SIZE, method=tf.image.ResizeMethod.NEAREST_NEIGHBOR)  # Nearest neighbor resizing\n",
    "    label = tf.cast(label, tf.int32)  # Convert to integer class indices\n",
    "    \n",
    "    return img, label\n",
    "\n",
    "# Function to create a TensorFlow dataset\n",
    "def create_dataset(df, batch_size=16, shuffle=True):\n",
    "    img_paths = df.iloc[:, 0].values  # First column = RGB images\n",
    "    label_paths = df.iloc[:, 1].values  # Second column = labels\n",
    "    \n",
    "    dataset = tf.data.Dataset.from_tensor_slices((img_paths, label_paths))\n",
    "    dataset = dataset.map(load_image, num_parallel_calls=tf.data.AUTOTUNE)\n",
    "    \n",
    "    if shuffle:\n",
    "        dataset = dataset.shuffle(buffer_size=len(df))\n",
    "    \n",
    "    dataset = dataset.batch(batch_size).prefetch(tf.data.AUTOTUNE)\n",
    "    \n",
    "    return dataset\n",
    "\n",
    "# Create datasets\n",
    "train_dataset = create_dataset(train_df)\n",
    "valid_dataset = create_dataset(valid_df, shuffle=False)\n",
    "test_dataset = create_dataset(test_df, shuffle=False)\n"
   ]
  },
  {
   "cell_type": "code",
   "execution_count": 5,
   "id": "ebc16867-36e7-4af3-883c-53168b576814",
   "metadata": {},
   "outputs": [
    {
     "data": {
      "text/plain": [
       "<_PrefetchDataset element_spec=(TensorSpec(shape=(None, 256, 256, 3), dtype=tf.float32, name=None), TensorSpec(shape=(None, 256, 256, 1), dtype=tf.int32, name=None))>"
      ]
     },
     "execution_count": 5,
     "metadata": {},
     "output_type": "execute_result"
    }
   ],
   "source": [
    "train_dataset"
   ]
  },
  {
   "cell_type": "code",
   "execution_count": 13,
   "id": "c6e959f5-4e55-440a-8dfd-71fbd6ff7265",
   "metadata": {},
   "outputs": [
    {
     "data": {
      "image/png": "[encoded data removed]",
      "text/plain": [
       "<Figure size 864x360 with 1 Axes>"
      ]
     },
     "metadata": {
      "needs_background": "light"
     },
     "output_type": "display_data"
    }
   ],
   "source": [
    "import matplotlib.pyplot as plt\n",
    "import numpy as np\n",
    "\n",
    "# Function to check class distribution in dataset\n",
    "def check_class_distribution(dataset, num_classes=37):\n",
    "    class_counts = np.zeros(num_classes)\n",
    "\n",
    "    for _, label_batch in dataset:\n",
    "        labels = label_batch.numpy().flatten()\n",
    "        unique, counts = np.unique(labels, return_counts=True)\n",
    "        for u, c in zip(unique, counts):\n",
    "            if u < num_classes:  # Ensure valid class index\n",
    "                class_counts[u] += c\n",
    "\n",
    "    # Plot class distribution\n",
    "    plt.figure(figsize=(12, 5))\n",
    "    plt.bar(range(num_classes), class_counts, color='blue')\n",
    "    plt.xlabel(\"Class Index\")\n",
    "    plt.ylabel(\"Number of Pixels\")\n",
    "    plt.title(\"Class Distribution in Dataset\")\n",
    "    plt.show()\n",
    "\n",
    "# Run class distribution analysis\n",
    "check_class_distribution(train_dataset)\n"
   ]
  },
  {
   "cell_type": "code",
   "execution_count": 18,
   "id": "6b434547-33d8-4b0f-98f7-2eda95bf83b4",
   "metadata": {},
   "outputs": [
    {
     "name": "stdout",
     "output_type": "stream",
     "text": [
      "Unexpected labels found in the dataset: {37}\n"
     ]
    }
   ],
   "source": [
    "expected_labels = set(range(37))  # Assuming labels should be from 0 to 36\n",
    "unexpected_labels = set()  # Use a set to collect all unique unexpected labels\n",
    "\n",
    "for _, label_batch in train_dataset:\n",
    "    labels = label_batch.numpy().flatten()\n",
    "    unique = np.unique(labels)\n",
    "    batch_unexpected_labels = set(unique) - expected_labels\n",
    "    if batch_unexpected_labels:\n",
    "        unexpected_labels.update(batch_unexpected_labels)  # Add to the main set\n",
    "\n",
    "print(f\"Unexpected labels found in the dataset: {unexpected_labels}\")"
   ]
  },
  {
   "cell_type": "code",
   "execution_count": 14,
   "id": "30517c6a-ab24-4928-ae31-fa041a7f2b3e",
   "metadata": {},
   "outputs": [
    {
     "name": "stdout",
     "output_type": "stream",
     "text": [
      "Class Weights: {0: 0.10368095290498432, 1: 0.1288833439564029, 2: 0.15689740056298793, 3: 1.1420302575955066, 4: 1.0204079308262362, 5: 0.32405283716483385, 6: 1.1713525323680567, 7: 0.44492180198567327, 8: 1.2456093593255504, 9: 1.1656493999891475, 10: 4.384419275338978, 11: 4.592979490512342, 12: 3.5159505509030358, 13: 7.649182360865487, 14: 1.223832885950388, 15: 8.677518327948755, 16: 2.915982566734064, 17: 6.015263324858445, 18: 5.663526764438516, 19: 5.6726043408979345, 20: 65.73962746242292, 21: 8.520510883781466, 22: 3.1986625693685884, 23: 7.105110762681788, 24: 8.211665837243203, 25: 15.774610282283879, 26: 8.594374846900525, 27: 16.773915425794883, 28: 80.79675603166788, 29: 5.080995119971509, 30: 4.998464239563352, 31: 30.914639681941615, 32: 43.206717980319134, 33: 10.786742577286471, 34: 7.49134661886008, 35: 12.799588789214788, 36: 15.537864788154037, 37: 12.038133919628033}\n"
     ]
    }
   ],
   "source": [
    "from sklearn.utils.class_weight import compute_class_weight\n",
    "import numpy as np\n",
    "\n",
    "# Initialize a dictionary to store the count of each class\n",
    "class_counts = {i: 0 for i in range(38)}\n",
    "\n",
    "# Step 1: Count the occurrences of each class in the dataset\n",
    "for _, label_batch in train_dataset:\n",
    "    labels = label_batch.numpy().flatten()\n",
    "    unique, counts = np.unique(labels, return_counts=True)\n",
    "    for cls, cnt in zip(unique, counts):\n",
    "        class_counts[cls] += cnt\n",
    "\n",
    "# Step 2: Compute class weights\n",
    "total_samples = sum(class_counts.values())\n",
    "class_weights = {cls: total_samples / (len(class_counts) * cnt) for cls, cnt in class_counts.items()}\n",
    "\n",
    "print(\"Class Weights:\", class_weights)"
   ]
  },
  {
   "cell_type": "code",
   "execution_count": null,
   "id": "6feaeb8b-8a1d-4cae-9164-c13211de0e34",
   "metadata": {},
   "outputs": [],
   "source": [
    "from sklearn.utils.class_weight import compute_class_weight\n",
    "import numpy as np\n",
    "\n",
    "class_indices = np.arange(37)\n",
    "class_weights = compute_class_weight(\"balanced\", classes=class_indices, y=all_labels.flatten())\n",
    "\n",
    "class_weight_dict = {i: w for i, w in enumerate(class_weights)}\n"
   ]
  },
  {
   "cell_type": "code",
   "execution_count": null,
   "id": "cc685356-4f8a-48fa-befd-678ea1ee7d6f",
   "metadata": {},
   "outputs": [],
   "source": [
    "7"
   ]
  },
  {
   "cell_type": "code",
   "execution_count": 26,
   "id": "6bf029cc-2b13-4e06-9abe-80cd269b0223",
   "metadata": {},
   "outputs": [],
   "source": [
    "# import tensorflow as tf\n",
    "# from tensorflow.keras.preprocessing.image import ImageDataGenerator\n",
    "\n",
    "# # Define data augmentation\n",
    "# datagen = ImageDataGenerator(\n",
    "#     rotation_range=20,        # Rotate images by up to 20 degrees\n",
    "#     width_shift_range=0.2,    # Shift width by 20%\n",
    "#     height_shift_range=0.2,   # Shift height by 20%\n",
    "#     horizontal_flip=True,     # Flip images horizontally\n",
    "#     brightness_range=[0.8, 1.2],  # Random brightness changes\n",
    "#     zoom_range=0.2            # Zoom in/out\n",
    "# )\n",
    "\n",
    "# # Underrepresented classes (highest class weights)\n",
    "# underrepresented_classes = [20, 28, 31, 32, 25, 27, 36, 35, 37, 33]\n",
    "\n",
    "# # Apply augmentation only to these classes\n",
    "# for class_idx in underrepresented_classes:\n",
    "#     # Filter images for the current class\n",
    "#     class_images = []\n",
    "#     for img, label in train_dataset:\n",
    "#         # Check if the label matches the current class\n",
    "#         if tf.reduce_all(tf.equal(label, class_idx)):  # Fix: Use tf.reduce_all\n",
    "#             class_images.append(img)\n",
    "\n",
    "#     # Augment images for the current class\n",
    "#     for img in class_images:\n",
    "#         augmented_images = datagen.flow(tf.expand_dims(img, axis=0), batch_size=1)\n",
    "#         for i in range(5):  # Generate 5x more samples\n",
    "#             augmented_image = next(augmented_images)[0]\n",
    "#             # Add the augmented image and its label to the dataset\n",
    "#             train_dataset = train_dataset.concatenate(\n",
    "#                 tf.data.Dataset.from_tensor_slices((augmented_image, class_idx))\n",
    "#             )"
   ]
  },
  {
   "cell_type": "code",
   "execution_count": 38,
   "id": "e8703202-da47-4a11-b4bc-9617270ebc83",
   "metadata": {},
   "outputs": [
    {
     "name": "stdout",
     "output_type": "stream",
     "text": [
      "Class distribution before augmentation:\n"
     ]
    },
    {
     "data": {
      "image/png": "[encoded data removed]",
      "text/plain": [
       "<Figure size 864x360 with 1 Axes>"
      ]
     },
     "metadata": {
      "needs_background": "light"
     },
     "output_type": "display_data"
    },
    {
     "name": "stdout",
     "output_type": "stream",
     "text": [
      "Class distribution after augmentation:\n"
     ]
    },
    {
     "data": {
      "image/png": "[encoded data removed]",
      "text/plain": [
       "<Figure size 864x360 with 1 Axes>"
      ]
     },
     "metadata": {
      "needs_background": "light"
     },
     "output_type": "display_data"
    }
   ],
   "source": [
    "import tensorflow as tf\n",
    "import numpy as np\n",
    "import matplotlib.pyplot as plt\n",
    "from tensorflow.keras.preprocessing.image import ImageDataGenerator\n",
    "\n",
    "# Define data augmentation\n",
    "datagen = ImageDataGenerator(\n",
    "    rotation_range=20,        # Rotate images by up to 20 degrees\n",
    "    width_shift_range=0.2,    # Shift width by 20%\n",
    "    height_shift_range=0.2,   # Shift height by 20%\n",
    "    horizontal_flip=True,     # Flip images horizontally\n",
    "    brightness_range=[0.8, 1.2],  # Random brightness changes\n",
    "    zoom_range=0.2            # Zoom in/out\n",
    ")\n",
    "\n",
    "# Underrepresented classes (highest class weights)\n",
    "underrepresented_classes = [20, 28, 31, 32, 25, 27, 36, 35, 37, 33]\n",
    "\n",
    "# Function to check class distribution in dataset\n",
    "def check_class_distribution(dataset, num_classes=37):\n",
    "    class_counts = np.zeros(num_classes)\n",
    "\n",
    "    for _, label_batch in dataset:\n",
    "        labels = label_batch.numpy().flatten()\n",
    "        unique, counts = np.unique(labels, return_counts=True)\n",
    "        for u, c in zip(unique, counts):\n",
    "            if u < num_classes:  # Ensure valid class index\n",
    "                class_counts[u] += c\n",
    "\n",
    "    # Plot class distribution\n",
    "    plt.figure(figsize=(12, 5))\n",
    "    plt.bar(range(num_classes), class_counts, color='blue')\n",
    "    plt.xlabel(\"Class Index\")\n",
    "    plt.ylabel(\"Number of Pixels\")\n",
    "    plt.title(\"Class Distribution in Dataset\")\n",
    "    plt.show()\n",
    "\n",
    "# Create lists to store images and labels\n",
    "augmented_images = []\n",
    "augmented_labels = []\n",
    "\n",
    "# Apply augmentation only to these classes\n",
    "for class_idx in underrepresented_classes:\n",
    "    # Filter images for the current class\n",
    "    class_images = []\n",
    "    class_labels = []\n",
    "    for img, label in train_dataset:\n",
    "        if tf.reduce_all(tf.equal(label, class_idx)):  # Filter images by class\n",
    "            class_images.append(img)\n",
    "            class_labels.append(label)\n",
    "\n",
    "    # Augment images for the current class\n",
    "    for img, label in zip(class_images, class_labels):\n",
    "        augmented_images_gen = datagen.flow(tf.expand_dims(img, axis=0), batch_size=1)\n",
    "\n",
    "        for i in range(5):  # Generate 5x more samples\n",
    "            augmented_image = next(augmented_images_gen)[0]\n",
    "            augmented_images.append(augmented_image)\n",
    "            augmented_labels.append(label)\n",
    "\n",
    "# Create a tf.data.Dataset from augmented images and labels\n",
    "augmented_train_dataset = tf.data.Dataset.from_tensor_slices((np.array(augmented_images), np.array(augmented_labels)))\n",
    "\n",
    "# Check class distribution before and after augmentation\n",
    "print(\"Class distribution before augmentation:\")\n",
    "check_class_distribution(train_dataset)\n",
    "\n",
    "print(\"Class distribution after augmentation:\")\n",
    "check_class_distribution(augmented_train_dataset)\n"
   ]
  },
  {
   "cell_type": "raw",
   "id": "6a0e30f5-17e5-4eb2-8f36-4800806a3747",
   "metadata": {},
   "source": [
    "import tensorflow as tf\n",
    "import numpy as np\n",
    "from tensorflow.keras.preprocessing.image import ImageDataGenerator\n",
    "\n",
    "def augment_image(image, label):\n",
    "    image = tf.image.random_flip_left_right(image)\n",
    "    image = tf.image.random_flip_up_down(image)\n",
    "    image = tf.image.random_brightness(image, max_delta=0.2)\n",
    "    return image, label\n",
    "\n",
    "# Define augmentation settings\n",
    "datagen = ImageDataGenerator(\n",
    "    rotation_range=15,\n",
    "    width_shift_range=0.1,\n",
    "    height_shift_range=0.1,\n",
    "    shear_range=0.1,\n",
    "    zoom_range=0.1,\n",
    "    horizontal_flip=True,\n",
    "    fill_mode='nearest'\n",
    ")\n",
    "\n",
    "def augment_dataset(dataset, underrepresented_classes, num_aug_per_image=5):\n",
    "    augmented_images = []\n",
    "    augmented_labels = []\n",
    "\n",
    "    for image_batch, label_batch in dataset:\n",
    "        batch_size = image_batch.shape[0]\n",
    "        \n",
    "        for i in range(batch_size):\n",
    "            label_mask = label_batch[i]\n",
    "            unique_labels = np.unique(label_mask.numpy())\n",
    "            \n",
    "            if any(label in underrepresented_classes for label in unique_labels):\n",
    "                augmented_images_gen = datagen.flow(\n",
    "                    np.expand_dims(image_batch[i].numpy(), axis=0),  # Use numpy() here for a single image\n",
    "                    batch_size=1\n",
    "                )\n",
    "\n",
    "                for _ in range(num_aug_per_image):\n",
    "                    aug_img = next(augmented_images_gen)[0]\n",
    "                    augmented_images.append(aug_img)\n",
    "                    augmented_labels.append(label_mask.numpy())\n",
    "\n",
    "    if augmented_images:\n",
    "        augmented_images = np.array(augmented_images)\n",
    "        augmented_labels = np.array(augmented_labels)\n",
    "\n",
    "        # Convert to TensorFlow dataset\n",
    "        aug_dataset = tf.data.Dataset.from_tensor_slices(\n",
    "            (augmented_images, augmented_labels)\n",
    "        )\n",
    "        return dataset.concatenate(aug_dataset)\n",
    "    else:\n",
    "        return dataset\n",
    "\n",
    "\n",
    "# Define underrepresented classes\n",
    "underrepresented_classes = [20, 28, 31, 32, 25, 27, 36, 35, 37, 33]\n",
    "\n",
    "# Augment dataset\n",
    "train_dataset = augment_dataset(train_dataset, underrepresented_classes)\n",
    "\n",
    "# Apply additional image augmentations\n",
    "train_dataset = train_dataset.map(augment_image, num_parallel_calls=tf.data.AUTOTUNE)\n",
    "train_dataset = train_dataset.batch(16).prefetch(tf.data.AUTOTUNE)\n",
    "\n",
    "# Check new class distribution\n",
    "check_class_distribution(train_dataset)\n"
   ]
  },
  {
   "cell_type": "code",
   "execution_count": null,
   "id": "753904bb-7a65-4a99-b722-46b06efe6c57",
   "metadata": {},
   "outputs": [],
   "source": [
    "7"
   ]
  },
  {
   "cell_type": "code",
   "execution_count": 37,
   "id": "fd28754b-fe70-45a3-aa08-d24ab8f26b84",
   "metadata": {},
   "outputs": [
    {
     "data": {
      "image/png": "[encoded data removed]",
      "text/plain": [
       "<Figure size 864x360 with 1 Axes>"
      ]
     },
     "metadata": {
      "needs_background": "light"
     },
     "output_type": "display_data"
    }
   ],
   "source": [
    "check_class_distribution(augmented_train_dataset)"
   ]
  },
  {
   "cell_type": "code",
   "execution_count": null,
   "id": "32fab318-9340-4fcb-a241-4c62086bf06a",
   "metadata": {},
   "outputs": [],
   "source": [
    "for img, label in train_dataset.take(1):  # Inspect the first batch\n",
    "    print(\"Image shape:\", img.shape)\n",
    "    print(\"Label shape:\", label.shape)\n",
    "    print(\"Label value:\", label.numpy())"
   ]
  },
  {
   "cell_type": "code",
   "execution_count": 41,
   "id": "e34fad52-59ff-4ebf-ada2-5df0e707fedc",
   "metadata": {},
   "outputs": [
    {
     "name": "stdout",
     "output_type": "stream",
     "text": [
      "Unique labels in dataset: {0, 1, 2, 3, 4, 5, 6, 7, 8, 9, 10, 11, 12, 13, 14, 15, 16, 17, 18, 19, 20, 21, 22, 23, 24, 25, 26, 27, 28, 29, 30, 31, 32, 33, 34, 35, 36, 37}\n"
     ]
    }
   ],
   "source": [
    "unique_labels = set()\n",
    "\n",
    "for _, label_batch in train_dataset:\n",
    "    labels = label_batch.numpy().flatten()\n",
    "    unique_labels.update(labels)\n",
    "\n",
    "print(\"Unique labels in dataset:\", unique_labels)\n"
   ]
  },
  {
   "cell_type": "code",
   "execution_count": null,
   "id": "278471a2-01cb-4ce8-b900-c2a41a81543a",
   "metadata": {},
   "outputs": [],
   "source": [
    "7"
   ]
  },
  {
   "cell_type": "code",
   "execution_count": null,
   "id": "8cee5ccc-ad29-4447-a698-e5261e96b96d",
   "metadata": {},
   "outputs": [],
   "source": [
    "class_counts_after = {}\n",
    "\n",
    "# Count occurrences of each class after augmentation\n",
    "for img, label in train_dataset:\n",
    "    class_counts_after[label.numpy()] = class_counts_after.get(label.numpy(), 0) + 1\n",
    "\n",
    "print(\"Class counts after augmentation:\", class_counts_after)\n"
   ]
  },
  {
   "cell_type": "code",
   "execution_count": null,
   "id": "ea92902b-07d4-4adc-8bb2-918581e0962d",
   "metadata": {},
   "outputs": [],
   "source": [
    "# Compute class weights based on dataset\n",
    "from sklearn.utils.class_weight import compute_class_weight\n",
    "\n",
    "# Get all class labels from dataset\n",
    "all_labels = []\n",
    "for _, label_batch in train_dataset:\n",
    "    labels = label_batch.numpy().flatten()\n",
    "    all_labels.extend(labels)\n",
    "\n",
    "# Compute class weights\n",
    "class_weights = compute_class_weight(class_weight=\"balanced\", \n",
    "                                     classes=np.arange(NUM_CLASSES), \n",
    "                                     y=all_labels)\n",
    "class_weights = {i: w for i, w in enumerate(class_weights)}\n",
    "\n",
    "print(\"Class Weights:\", class_weights)\n",
    "\n",
    "# Use weighted loss function\n",
    "loss_fn = tf.keras.losses.SparseCategoricalCrossentropy()\n",
    "weighted_loss_fn = lambda y_true, y_pred: loss_fn(y_true, y_pred) * tf.gather(tf.constant(list(class_weights.values())), y_true)\n",
    "\n",
    "# Recompile model with weighted loss\n",
    "model.compile(optimizer=tf.keras.optimizers.Adam(learning_rate=0.0001),\n",
    "              loss=weighted_loss_fn,\n",
    "              metrics=['accuracy'])\n"
   ]
  },
  {
   "cell_type": "code",
   "execution_count": null,
   "id": "50704c2b-acf3-42c4-b5f1-5db65c39f742",
   "metadata": {},
   "outputs": [],
   "source": [
    "import tensorflow as tf\n",
    "import tensorflow_hub as hub\n",
    "from tensorflow.keras.optimizers import Adam\n",
    "from tensorflow.keras.losses import SparseCategoricalCrossentropy\n",
    "\n",
    "# Load DeepLabV3+ model with MobileNetV2 backbone\n",
    "model = tf.keras.Sequential([\n",
    "    hub.KerasLayer(\"https://tfhub.dev/tensorflow/deeplabv3/1\", trainable=True)\n",
    "])\n",
    "\n",
    "# Compile model\n",
    "model.compile(optimizer=Adam(learning_rate=0.0001), \n",
    "              loss=SparseCategoricalCrossentropy(from_logits=True), \n",
    "              metrics=[\"accuracy\"])\n",
    "\n",
    "# Train\n",
    "model.fit(train_dataset, epochs=10, validation_data=val_dataset)\n"
   ]
  }
 ],
 "metadata": {
  "kernelspec": {
   "display_name": "Python 3 (ipykernel)",
   "language": "python",
   "name": "python3"
  },
  "language_info": {
   "codemirror_mode": {
    "name": "ipython",
    "version": 3
   },
   "file_extension": ".py",
   "mimetype": "text/x-python",
   "name": "python",
   "nbconvert_exporter": "python",
   "pygments_lexer": "ipython3",
   "version": "3.9.12"
  }
 },
 "nbformat": 4,
 "nbformat_minor": 5
}
